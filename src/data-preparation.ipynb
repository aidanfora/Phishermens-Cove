{
 "cells": [
  {
   "cell_type": "markdown",
   "metadata": {},
   "source": [
    "## Identifying the features of a malicious URL\n",
    "\n",
    "Based on a [study by the University of Huddersfield in the United Kingdom](https://eprints.hud.ac.uk/id/eprint/24330/6/MohammadPhishing14July2015.pdf), certain URL characteristics can signal a potential phishing website:\n",
    "\n",
    "| Indicator              | Description                                                                                           |\n",
    "|------------------------|-------------------------------------------------------------------------------------------------------|\n",
    "| `IP Address Usage`       | Legitimate websites primarily use domain names. The presence of a raw IP address suggests an attempt to mask the site's true identity. |\n",
    "| `Extended URL Length`    | Phishers craft long URLs to obscure the suspicious parts of the address, making the site harder to scrutinize. |\n",
    "| `URL Shortening`         | Shortened links hide the full, potentially malicious, domain name.                                      |\n",
    "| `'@' Symbol Inclusion`   | The \"@\" symbol tricks browsers into ignoring the initial part of the URL and redirects to a different website hidden behind the symbol. |\n",
    "| `Multiple '//' Symbols`  | The presence of extra \"//\" within a URL indicates redirection to a different website, which is a common phishing tactic. |\n",
    "| `Excessive Dots in Domain`  | A URL with more than two dots between the initial 'www' and the country-code Top-Level Domain (e.g., .sg, .uk, .ca) is suspicious, as it may reveal a multitude of nested subdomains. |\n",
    "| `Lack of HTTPS`          | The absence of the secure HTTPS protocol can be a red flag, as legitimate sites often use HTTPS to ensure secure connections. |\n",
    "| `Domain Dashes and Hyphens` | Phishers frequently insert prefixes or suffixes separated by dashes or hyphens into domain names, making them appear legitimate to unsuspecting users. |\n",
    "\n",
    "<br>\n",
    "\n",
    "Additionally, our dataset includes non-URL based features that the study has identified as good indicators of potential phishing websites as well:\n",
    "| Indicator          | Description                                                                                                  |\n",
    "|--------------------|--------------------------------------------------------------------------------------------------------------|\n",
    "| `Google-Index`       | Checks if the website appears in Google's search index. Phishing sites often have a short lifespan and may not be indexed.  |\n",
    "| `Age of Domain`      | Determines how long the domain has been registered (retrieved from WHOIS data). Phishing sites tend to be newly registered. |\n",
    "| `Domain Expiration`  | Examines the domain's expiration date. Legitimate domains are often renewed for extended periods, while phishing domains may have short expiration windows.    |\n",
    "\n"
   ]
  },
  {
   "cell_type": "markdown",
   "metadata": {},
   "source": [
    "Hence, the following features of the dataset are selected:\n",
    "-   URL Characteristics:\n",
    "    -   `domain_in_ip`: Domain in IP.\n",
    "    -   `length_url`: Length of the URL.\n",
    "    -   `url_shortened`: URL shortened.\n",
    "    -   `qty_at_url`: Quantity of \"@\" symbols in the URL.\n",
    "    -   `qty_dot_domain`: Quantity of dots in the domain.\n",
    "    -   `tls_ssl_certificate`: TLS SSL certificate.\n",
    "    -   `qty_hyphen_domain`: Quantity of hyphens in the domain.\n",
    "    -   `qty_underline_domain`: Quantity of underscores in the domain.\n",
    "- Non-URL Characteristics:\n",
    "    -   `url_google_index`: URL Google index.\n",
    "    -   `domain_google_index`: Domain Google index.\n",
    "    -   `time_domain_activation`: Time domain activation.\n",
    "    -   `time_domain_expiration`: Time domain expiration.\n",
    "\n",
    "We decided to exclude the `Multiple '//' Symbols` feature from our analysis. This is because our dataset tracks the number of single '/' symbols, which can be quite common in legitimate URLs for directories and file paths. "
   ]
  },
  {
   "cell_type": "code",
   "execution_count": 2,
   "metadata": {},
   "outputs": [],
   "source": [
    "## Open the datasets\n",
    "import pandas as pd\n",
    "sampled_url_information = pd.read_csv('../datasets/sampled_url_information.csv')\n",
    "sampled_malicious_urls = pd.read_csv('../datasets/sampled_malicious_urls.csv')"
   ]
  },
  {
   "cell_type": "code",
   "execution_count": 5,
   "metadata": {},
   "outputs": [],
   "source": [
    "# Cleaning the sampled dataset to extract only the useful columns\n",
    "selected_columns = [\n",
    "    'domain_in_ip', 'length_url', 'url_shortened', 'qty_at_url', 'qty_dot_domain', 'tls_ssl_certificate',\n",
    "    'qty_hyphen_domain', 'qty_underline_domain', 'url_google_index', 'domain_google_index',\n",
    "    'time_domain_activation', 'time_domain_expiration', 'phishing'\n",
    "]\n",
    "\n",
    "cleaned_url_information = sampled_url_information[selected_columns]"
   ]
  },
  {
   "cell_type": "code",
   "execution_count": 6,
   "metadata": {},
   "outputs": [],
   "source": [
    "## Write to a new CSV\n",
    "cleaned_url_information.to_csv('../datasets/cleaned_url_information.csv', index=False)"
   ]
  }
 ],
 "metadata": {
  "kernelspec": {
   "display_name": "venv",
   "language": "python",
   "name": "python3"
  },
  "language_info": {
   "codemirror_mode": {
    "name": "ipython",
    "version": 3
   },
   "file_extension": ".py",
   "mimetype": "text/x-python",
   "name": "python",
   "nbconvert_exporter": "python",
   "pygments_lexer": "ipython3",
   "version": "3.11.4"
  }
 },
 "nbformat": 4,
 "nbformat_minor": 2
}
