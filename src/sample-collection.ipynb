{
 "cells": [
  {
   "cell_type": "markdown",
   "metadata": {},
   "source": [
    "## Collecting the Data\n",
    "\n",
    "We will leverage two key datasets for this project:\n",
    "\n",
    "1. [Phishing Domain URL Dataset](https://www.kaggle.com/datasets/michellevp/dataset-phishing-domain-detection-cybersecurity) \n",
    "    - This dataset offers a rich array of URL-derived features, specifically tailored for detecting phishing domains.\n",
    "2. [Malicious URLs Dataset](https://www.kaggle.com/datasets/sid321axn/malicious-urls-dataset)\n",
    "    - This dataset provides a broad selection of both malicious and safe website URLs.\n",
    "\n",
    "**Focus**: As the `Malicious URLs Dataset` also contains URLs to other forms of malicious websites, we will filter this dataset to isolate only phishing-related and benign URLs.\n",
    "\n",
    "**Data Sampling**: Due to the size of these datasets, we will randomly select 1000 representative entries from each. This approach ensures a manageable dataset while maintaining diversity for effective analysis."
   ]
  },
  {
   "cell_type": "code",
   "execution_count": 2,
   "metadata": {},
   "outputs": [],
   "source": [
    "## Open the datasets\n",
    "import pandas as pd\n",
    "url_information = pd.read_csv('../datasets/url_information.csv')\n",
    "malicious_urls = pd.read_csv('../datasets/malicious_urls.csv')"
   ]
  },
  {
   "cell_type": "code",
   "execution_count": 4,
   "metadata": {},
   "outputs": [],
   "source": [
    "## Filtering Malicious URLs Dataset\n",
    "filtered_malicious_urls = malicious_urls[malicious_urls['type'].isin(['phishing', 'benign'])]\n",
    "\n",
    "## Selecting 1000 random samples\n",
    "sampled_malicious_urls = filtered_malicious_urls.sample(n=1000, random_state=69)\n",
    "sampled_url_information = url_information.sample(n=1000, random_state=69)"
   ]
  },
  {
   "cell_type": "code",
   "execution_count": null,
   "metadata": {},
   "outputs": [],
   "source": [
    "## Write to a new CSV\n",
    "sampled_malicious_urls.to_csv('../datasets/sampled_malicious_urls.csv', index=False)\n",
    "sampled_url_information.to_csv('../datasets/sampled_url_information.csv', index=False)"
   ]
  }
 ],
 "metadata": {
  "kernelspec": {
   "display_name": "venv",
   "language": "python",
   "name": "python3"
  },
  "language_info": {
   "codemirror_mode": {
    "name": "ipython",
    "version": 3
   },
   "file_extension": ".py",
   "mimetype": "text/x-python",
   "name": "python",
   "nbconvert_exporter": "python",
   "pygments_lexer": "ipython3",
   "version": "3.11.4"
  }
 },
 "nbformat": 4,
 "nbformat_minor": 2
}
