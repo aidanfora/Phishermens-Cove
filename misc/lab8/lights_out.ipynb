{
 "cells": [
  {
   "cell_type": "markdown",
   "metadata": {},
   "source": [
    "# Lights Out\n",
    "\n",
    "Amongst the various logic and combinatorial puzzles, the classic game of Lights Out presents a unique strategic\n",
    "challenge. The goal of the puzzle is to transform a grid of lights – where each light can be toggled between on and\n",
    "off – into a state where all lights are turned off. This deceptively simple problem requires careful planning and\n",
    "systematic decision-making (Fleischer & Yu, 2013). Hence, we believe that artificial intelligence (AI) agents offer\n",
    "a powerful tool to analyse this puzzle – to explore potential solutions and discover the optimal sequence of toggles\n",
    "to solve it."
   ]
  },
  {
   "cell_type": "code",
   "execution_count": 48,
   "metadata": {},
   "outputs": [],
   "source": [
    "import numpy as np\n",
    "import matplotlib.pyplot as plt"
   ]
  },
  {
   "cell_type": "code",
   "execution_count": 49,
   "metadata": {},
   "outputs": [
    {
     "data": {
      "image/png": "[encoded data removed]",
      "text/plain": [
       "<Figure size 400x400 with 1 Axes>"
      ]
     },
     "metadata": {},
     "output_type": "display_data"
    },
    {
     "name": "stdout",
     "output_type": "stream",
     "text": [
      "Number of Lights On: 16\n"
     ]
    }
   ],
   "source": [
    "# seed game\n",
    "# np.random.seed(1234) \n",
    "\n",
    "class LightsOutGame:\n",
    "    \"\"\" \n",
    "    Implementation of Lights Out game using a 2D array\n",
    "    \"\"\"\n",
    "\n",
    "    def __init__(self, M, N):\n",
    "        # game grid size\n",
    "        self._M = M\n",
    "        self._N = N\n",
    "        # self._game_grid = np.random.choice([0, 1], size=(self._M, self._N)) # initialise game grid\n",
    "        self._game_grid = np.ones(shape=(self._M, self._N))\n",
    "\n",
    "        self._num_lights = np.count_nonzero(self._game_grid == 1)\n",
    "        self._adj_dir = [[0, 0], [-1, 0], [1, 0], [0, -1], [0, 1]] # direction of tiles whether bits need to be flipped on click\n",
    "        self.click_path = []\n",
    "        self.key = self._gen_key()\n",
    "\n",
    "    def click(self, x_pos, y_pos):\n",
    "        if self.has_ended():\n",
    "            return\n",
    "        \n",
    "        # keep track of what we click\n",
    "        self.click_path.append((x_pos, y_pos))\n",
    "\n",
    "        for dir in self._adj_dir:\n",
    "            x = x_pos + dir[0]\n",
    "            y = y_pos + dir[1]\n",
    "\n",
    "            if x < 0 or x >= self._M or y < 0 or y >= self._N:\n",
    "                continue\n",
    "            \n",
    "            # adjust lights on count\n",
    "            if self._game_grid[x, y]:\n",
    "                self._num_lights -= 1\n",
    "            else:\n",
    "                self._num_lights += 1\n",
    "\n",
    "            self._game_grid[x, y] = not self._game_grid[x, y] # flip bit of clicked tile\n",
    "        \n",
    "        self.key = self._gen_key() # update board key\n",
    "\n",
    "    def has_ended(self):\n",
    "        return self._num_lights == 0\n",
    "\n",
    "    def get_num_of_clicks(self):\n",
    "        return len(self.click_path)\n",
    "    \n",
    "    def get_state_key(self):\n",
    "        return self.key\n",
    "\n",
    "    def print_game(self):\n",
    "        (height, width) = self._game_grid.shape\n",
    "        grid = self._game_grid * 255  # match standard pixel values (0 to 255) in grayscale\n",
    "\n",
    "        plt.figure(figsize=(width, height))\n",
    "        plt.imshow(grid, cmap='Greys', vmin=0, vmax=255)\n",
    "\n",
    "        # Add gridlines\n",
    "        plt.grid(True, which='both', color='black', linewidth=1)\n",
    "\n",
    "        # we need to offset the grid lines to match tiles\n",
    "        plt.xticks([x-0.5 for x in range(1, width)], [])\n",
    "        plt.yticks([y-0.5 for y in range(1, height)], [])         \n",
    "        plt.show()\n",
    "\n",
    "        print(\"Number of Lights On:\", self._num_lights)\n",
    "\n",
    "\n",
    "    def _check_solvable_game(self):\n",
    "        \"\"\" \n",
    "        ONLY VALID FOR 5x5 (i think)\n",
    "\n",
    "        Not all Lights Out games are solvable. Hence we will need to run a test to ensure\n",
    "        games generated are all solvable.\n",
    "        https://puzzling.stackexchange.com/questions/123075/how-do-i-determine-whether-a-5x5-lights-out-puzzle-is-solvable-without-trying-to\n",
    "        \"\"\"\n",
    "\n",
    "        count = 0 \n",
    "\n",
    "        # row-checking\n",
    "        for i in [0, 2, 4]:\n",
    "            count += self._game_grid[i][0]\n",
    "            count += self._game_grid[i][1]\n",
    "            count += self._game_grid[i][3]\n",
    "            count += self._game_grid[i][4]\n",
    "        \n",
    "        if count % 2 != 0:\n",
    "            return False\n",
    "        \n",
    "        count = 0\n",
    "        # col checking\n",
    "        for i in [0, 2, 4]:\n",
    "            count += self._game_grid[0][i]\n",
    "            count += self._game_grid[1][i]\n",
    "            count += self._game_grid[3][i]\n",
    "            count += self._game_grid[4][i]\n",
    "\n",
    "        if count % 2 != 0:\n",
    "            return False\n",
    "        \n",
    "        return True\n",
    "\n",
    "\n",
    "    def _gen_key(self):\n",
    "        return ''.join(self._game_grid.flatten().astype(int).astype(str))\n",
    "\n",
    "\n",
    "game = LightsOutGame(4, 4)\n",
    "game.print_game()"
   ]
  },
  {
   "cell_type": "markdown",
   "metadata": {},
   "source": [
    "# Implementation of Our Agent\n",
    "\n",
    "The goal of Lights Out is to toggle all switches off in the minimum number of moves given the unique bit flipping pattern upon click."
   ]
  },
  {
   "cell_type": "code",
   "execution_count": 50,
   "metadata": {},
   "outputs": [
    {
     "name": "stdout",
     "output_type": "stream",
     "text": [
      "States iterated: 1000 2263\n",
      "States iterated: 2000 3268\n",
      "30900 2139\n"
     ]
    }
   ],
   "source": [
    "import queue\n",
    "import copy\n",
    "\n",
    "\n",
    "class LightsOutSolver:\n",
    "\n",
    "    def __init__(self):\n",
    "        self.memo_table = {} # cache previously seen before moves\n",
    "\n",
    "\n",
    "    def solve(self, game: LightsOutGame):\n",
    "        \"\"\" \n",
    "        Solving using BFS\n",
    "        \"\"\"\n",
    "\n",
    "        min_moves = float('inf')\n",
    "        best_path = None\n",
    "        hit = 0\n",
    "        q = queue.Queue() # FIFO queue\n",
    "        q.put(copy.deepcopy(game)) # put a deep copy of the game into the queue\n",
    "        processed_count = 0\n",
    "\n",
    "        while not q.empty():\n",
    "            processed_count += 1\n",
    "            curr_game_state: LightsOutGame = q.get()\n",
    "\n",
    "            if processed_count % 1000 == 0:\n",
    "                print(\"States iterated:\", processed_count, len(self.memo_table))\n",
    "                if best_path:\n",
    "                    print(\"Current best path:\", best_path)\n",
    "                    print(\"Best path length:\", min_moves)\n",
    "\n",
    "            if curr_game_state.has_ended():\n",
    "                if curr_game_state.get_num_of_clicks() < min_moves:\n",
    "                    min_moves = curr_game_state.get_num_of_clicks()\n",
    "                    best_path = curr_game_state.click_path\n",
    "                break\n",
    "            \n",
    "            for i in range(curr_game_state._M):\n",
    "                for j in range(curr_game_state._N):\n",
    "                    next_game_state = copy.deepcopy(curr_game_state)\n",
    "                    next_game_state.click(i, j)\n",
    "\n",
    "                     # check if we have seen this state before\n",
    "                    if next_game_state.get_state_key() in self.memo_table:\n",
    "                        hit += 1 # just to track how many times we see a previous cached position\n",
    "                        cached_state_path = self.memo_table[next_game_state.get_state_key()]\n",
    "                        if len(cached_state_path) < len(next_game_state.click_path):\n",
    "                            next_game_state.click_path = cached_state_path\n",
    "                        else:\n",
    "                            # optimisation step to skip loops\n",
    "                            self.memo_table[next_game_state.get_state_key()] = next_game_state.click_path\n",
    "                            continue\n",
    "                    else: \n",
    "                        self.memo_table[next_game_state.get_state_key()] = next_game_state.click_path\n",
    "                \n",
    "                    q.put(next_game_state)\n",
    "\n",
    "        print(hit, processed_count)        \n",
    "        return min_moves, best_path, processed_count\n",
    "\n",
    "\n",
    "solver = LightsOutSolver()\n",
    "ans = solver.solve(game)"
   ]
  },
  {
   "cell_type": "code",
   "execution_count": 51,
   "metadata": {},
   "outputs": [
    {
     "data": {
      "text/plain": [
       "(4, [(0, 1), (1, 3), (2, 0), (3, 2)], 2139)"
      ]
     },
     "execution_count": 51,
     "metadata": {},
     "output_type": "execute_result"
    }
   ],
   "source": [
    "ans"
   ]
  },
  {
   "cell_type": "code",
   "execution_count": 52,
   "metadata": {},
   "outputs": [
    {
     "data": {
      "image/png": "[encoded data removed]",
      "text/plain": [
       "<Figure size 400x400 with 1 Axes>"
      ]
     },
     "metadata": {},
     "output_type": "display_data"
    },
    {
     "name": "stdout",
     "output_type": "stream",
     "text": [
      "Number of Lights On: 16\n"
     ]
    }
   ],
   "source": [
    "# seed game\n",
    "game = LightsOutGame(4, 4)\n",
    "game.print_game()"
   ]
  },
  {
   "cell_type": "code",
   "execution_count": 53,
   "metadata": {},
   "outputs": [
    {
     "data": {
      "image/png": "[encoded data removed]",
      "text/plain": [
       "<Figure size 400x400 with 1 Axes>"
      ]
     },
     "metadata": {},
     "output_type": "display_data"
    },
    {
     "name": "stdout",
     "output_type": "stream",
     "text": [
      "Number of Lights On: 12\n"
     ]
    },
    {
     "data": {
      "image/png": "[encoded data removed]",
      "text/plain": [
       "<Figure size 400x400 with 1 Axes>"
      ]
     },
     "metadata": {},
     "output_type": "display_data"
    },
    {
     "name": "stdout",
     "output_type": "stream",
     "text": [
      "Number of Lights On: 8\n"
     ]
    },
    {
     "data": {
      "image/png": "[encoded data removed]",
      "text/plain": [
       "<Figure size 400x400 with 1 Axes>"
      ]
     },
     "metadata": {},
     "output_type": "display_data"
    },
    {
     "name": "stdout",
     "output_type": "stream",
     "text": [
      "Number of Lights On: 4\n"
     ]
    },
    {
     "data": {
      "image/png": "[encoded data removed]",
      "text/plain": [
       "<Figure size 400x400 with 1 Axes>"
      ]
     },
     "metadata": {},
     "output_type": "display_data"
    },
    {
     "name": "stdout",
     "output_type": "stream",
     "text": [
      "Number of Lights On: 0\n"
     ]
    }
   ],
   "source": [
    "game.click(0, 1)\n",
    "game.print_game()\n",
    "game.click(1, 3)\n",
    "game.print_game()\n",
    "game.click(2, 0)\n",
    "game.print_game()\n",
    "game.click(3, 2)\n",
    "game.print_game()"
   ]
  }
 ],
 "metadata": {
  "kernelspec": {
   "display_name": "dsai",
   "language": "python",
   "name": "python3"
  },
  "language_info": {
   "codemirror_mode": {
    "name": "ipython",
    "version": 3
   },
   "file_extension": ".py",
   "mimetype": "text/x-python",
   "name": "python",
   "nbconvert_exporter": "python",
   "pygments_lexer": "ipython3",
   "version": "3.10.13"
  }
 },
 "nbformat": 4,
 "nbformat_minor": 2
}
